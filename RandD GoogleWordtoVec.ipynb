{
 "cells": [
  {
   "cell_type": "code",
   "execution_count": 1,
   "id": "be699cc5-5764-42c9-9181-51dc7ce50fe8",
   "metadata": {},
   "outputs": [
    {
     "name": "stderr",
     "output_type": "stream",
     "text": [
      "/Users/suryaatul/PythonWorkspace/MyLLMProject/LLM/lib/python3.9/site-packages/urllib3/__init__.py:35: NotOpenSSLWarning: urllib3 v2 only supports OpenSSL 1.1.1+, currently the 'ssl' module is compiled with 'LibreSSL 2.8.3'. See: https://github.com/urllib3/urllib3/issues/3020\n",
      "  warnings.warn(\n"
     ]
    }
   ],
   "source": [
    "#import gensim.downloader as api\n",
    "\n",
    "#model=api.load(\"word2vec-google-news-300\")"
   ]
  },
  {
   "cell_type": "code",
   "execution_count": 8,
   "id": "4356ae99-6e38-4d28-8d84-7d62d3b0016a",
   "metadata": {},
   "outputs": [
    {
     "data": {
      "text/plain": [
       "gensim.models.keyedvectors.KeyedVectors"
      ]
     },
     "execution_count": 8,
     "metadata": {},
     "output_type": "execute_result"
    }
   ],
   "source": [
    "type(model)"
   ]
  },
  {
   "cell_type": "code",
   "execution_count": 11,
   "id": "848a1602-cc4f-46ae-80ac-8eb8efdc2f4e",
   "metadata": {},
   "outputs": [
    {
     "name": "stdout",
     "output_type": "stream",
     "text": [
      "(300,)\n"
     ]
    }
   ],
   "source": [
    "print(model['computer'].shape)"
   ]
  },
  {
   "cell_type": "code",
   "execution_count": 23,
   "id": "05b7dc9c-f6df-443c-b66c-d2b242cb32f4",
   "metadata": {},
   "outputs": [
    {
     "name": "stdout",
     "output_type": "stream",
     "text": [
      "[ 1.07421875e-01 -2.01171875e-01  1.23046875e-01  2.11914062e-01\n",
      " -9.13085938e-02  2.16796875e-01 -1.31835938e-01  8.30078125e-02\n",
      "  2.02148438e-01  4.78515625e-02  3.66210938e-02 -2.45361328e-02\n",
      "  2.39257812e-02 -1.60156250e-01 -2.61230469e-02  9.71679688e-02\n",
      " -6.34765625e-02  1.84570312e-01  1.70898438e-01 -1.63085938e-01\n",
      " -1.09375000e-01  1.49414062e-01 -4.65393066e-04  9.61914062e-02\n",
      "  1.68945312e-01  2.60925293e-03  8.93554688e-02  6.49414062e-02\n",
      "  3.56445312e-02 -6.93359375e-02 -1.46484375e-01 -1.21093750e-01\n",
      " -2.27539062e-01  2.45361328e-02 -1.24511719e-01 -3.18359375e-01\n",
      " -2.20703125e-01  1.30859375e-01  3.66210938e-02 -3.63769531e-02\n",
      " -1.13281250e-01  1.95312500e-01  9.76562500e-02  1.26953125e-01\n",
      "  6.59179688e-02  6.93359375e-02  1.02539062e-02  1.75781250e-01\n",
      " -1.68945312e-01  1.21307373e-03 -2.98828125e-01 -1.15234375e-01\n",
      "  5.66406250e-02 -1.77734375e-01 -2.08984375e-01  1.76757812e-01\n",
      "  2.38037109e-02 -2.57812500e-01 -4.46777344e-02  1.88476562e-01\n",
      "  5.51757812e-02  5.02929688e-02 -1.06933594e-01  1.89453125e-01\n",
      " -1.16210938e-01  8.49609375e-02 -1.71875000e-01  2.45117188e-01\n",
      " -1.73828125e-01 -8.30078125e-03  4.56542969e-02 -1.61132812e-02\n",
      "  1.86523438e-01 -6.05468750e-02 -4.17480469e-02  1.82617188e-01\n",
      "  2.20703125e-01 -1.22558594e-01 -2.55126953e-02 -3.08593750e-01\n",
      "  9.13085938e-02  1.60156250e-01  1.70898438e-01  1.19628906e-01\n",
      "  7.08007812e-02 -2.64892578e-02 -3.08837891e-02  4.06250000e-01\n",
      " -1.01562500e-01  5.71289062e-02 -7.26318359e-03 -9.17968750e-02\n",
      " -1.50390625e-01 -2.55859375e-01  2.16796875e-01 -3.63769531e-02\n",
      "  2.24609375e-01  8.00781250e-02  1.56250000e-01  5.27343750e-02\n",
      "  1.50390625e-01 -1.14746094e-01 -8.64257812e-02  1.19140625e-01\n",
      " -7.17773438e-02  2.73437500e-01 -1.64062500e-01  7.29370117e-03\n",
      "  4.21875000e-01 -1.12792969e-01 -1.35742188e-01 -1.31835938e-01\n",
      " -1.37695312e-01 -7.66601562e-02  6.25000000e-02  4.98046875e-02\n",
      " -1.91406250e-01 -6.03027344e-02  2.27539062e-01  5.88378906e-02\n",
      " -3.24218750e-01  5.41992188e-02 -1.35742188e-01  8.17871094e-03\n",
      " -5.24902344e-02 -1.74713135e-03 -9.81445312e-02 -2.86865234e-02\n",
      "  3.61328125e-02  2.15820312e-01  5.98144531e-02 -3.08593750e-01\n",
      " -2.27539062e-01  2.61718750e-01  9.86328125e-02 -5.07812500e-02\n",
      "  1.78222656e-02  1.31835938e-01 -5.35156250e-01 -1.81640625e-01\n",
      "  1.38671875e-01 -3.10546875e-01 -9.71679688e-02  1.31835938e-01\n",
      " -1.16210938e-01  7.03125000e-02  2.85156250e-01  3.51562500e-02\n",
      " -1.01562500e-01 -3.75976562e-02  1.41601562e-01  1.42578125e-01\n",
      " -5.68847656e-02  2.65625000e-01 -2.09960938e-01  9.64355469e-03\n",
      " -6.68945312e-02 -4.83398438e-02 -6.10351562e-02  2.45117188e-01\n",
      " -9.66796875e-02  1.78222656e-02 -1.27929688e-01 -4.78515625e-02\n",
      " -7.26318359e-03  1.79687500e-01  2.78320312e-02 -2.10937500e-01\n",
      " -1.43554688e-01 -1.27929688e-01  1.73339844e-02 -3.60107422e-03\n",
      " -2.04101562e-01  3.63159180e-03 -1.19628906e-01 -6.15234375e-02\n",
      "  5.93261719e-02 -3.23486328e-03 -1.70898438e-01 -3.14941406e-02\n",
      " -8.88671875e-02 -2.89062500e-01  3.44238281e-02 -1.87500000e-01\n",
      "  2.94921875e-01  1.58203125e-01 -1.19628906e-01  7.61718750e-02\n",
      "  6.39648438e-02 -4.68750000e-02 -6.83593750e-02  1.21459961e-02\n",
      " -1.44531250e-01  4.54101562e-02  3.68652344e-02  3.88671875e-01\n",
      "  1.45507812e-01 -2.55859375e-01 -4.46777344e-02 -1.33789062e-01\n",
      " -1.38671875e-01  6.59179688e-02  1.37695312e-01  1.14746094e-01\n",
      "  2.03125000e-01 -4.78515625e-02  1.80664062e-02 -8.54492188e-02\n",
      " -2.48046875e-01 -3.39843750e-01 -2.83203125e-02  1.05468750e-01\n",
      " -2.14843750e-01 -8.74023438e-02  7.12890625e-02  1.87500000e-01\n",
      " -1.12304688e-01  2.73437500e-01 -3.26171875e-01 -1.77734375e-01\n",
      " -4.24804688e-02 -2.69531250e-01  6.64062500e-02 -6.88476562e-02\n",
      " -1.99218750e-01 -7.03125000e-02 -2.43164062e-01 -3.66210938e-02\n",
      " -7.37304688e-02 -1.77734375e-01  9.17968750e-02 -1.25000000e-01\n",
      " -1.65039062e-01 -3.57421875e-01 -2.85156250e-01 -1.66992188e-01\n",
      "  1.97265625e-01 -1.53320312e-01  2.31933594e-02  2.06054688e-01\n",
      "  1.80664062e-01 -2.74658203e-02 -1.92382812e-01 -9.61914062e-02\n",
      " -1.06811523e-02 -4.73632812e-02  6.54296875e-02 -1.25732422e-02\n",
      "  1.78222656e-02 -8.00781250e-02 -2.59765625e-01  9.37500000e-02\n",
      " -7.81250000e-02  4.68750000e-02 -2.22167969e-02  1.86767578e-02\n",
      "  3.11279297e-02  1.04980469e-02 -1.69921875e-01  2.58789062e-02\n",
      " -3.41796875e-02 -1.44042969e-02 -5.46875000e-02 -8.78906250e-02\n",
      "  1.96838379e-03  2.23632812e-01 -1.36718750e-01  1.75781250e-01\n",
      " -1.63085938e-01  1.87500000e-01  3.44238281e-02 -5.63964844e-02\n",
      " -2.27689743e-05  4.27246094e-02  5.81054688e-02 -1.07910156e-01\n",
      " -3.88183594e-02 -2.69531250e-01  3.34472656e-02  9.81445312e-02\n",
      "  5.63964844e-02  2.23632812e-01 -5.49316406e-02  1.46484375e-01\n",
      "  5.93261719e-02 -2.19726562e-01  6.39648438e-02  1.66015625e-02\n",
      "  4.56542969e-02  3.26171875e-01 -3.80859375e-01  1.70898438e-01\n",
      "  5.66406250e-02 -1.04492188e-01  1.38671875e-01 -1.57226562e-01\n",
      "  3.23486328e-03 -4.80957031e-02 -2.48046875e-01 -6.20117188e-02]\n"
     ]
    }
   ],
   "source": [
    "print(model['computer'])"
   ]
  },
  {
   "cell_type": "code",
   "execution_count": 27,
   "id": "67bd681b-2973-4776-a5a5-95f62125d8d6",
   "metadata": {},
   "outputs": [
    {
     "name": "stdout",
     "output_type": "stream",
     "text": [
      "[0.4277688]\n"
     ]
    }
   ],
   "source": [
    "print(model.cosine_similarities(model['computer'],[model['machine']]))"
   ]
  },
  {
   "cell_type": "code",
   "execution_count": 40,
   "id": "4ff3f20b-16be-4d9a-b779-9dc1b0b6fb1b",
   "metadata": {},
   "outputs": [
    {
     "name": "stdout",
     "output_type": "stream",
     "text": [
      "[0.63953906]\n"
     ]
    }
   ],
   "source": [
    "print(model.cosine_similarities(model['crown_prince'],[model['monarch']]))"
   ]
  },
  {
   "cell_type": "code",
   "execution_count": 49,
   "id": "74f833ef-41ee-4de8-adb8-804dae41d4f3",
   "metadata": {},
   "outputs": [
    {
     "data": {
      "text/plain": [
       "'queen'"
      ]
     },
     "execution_count": 49,
     "metadata": {},
     "output_type": "execute_result"
    }
   ],
   "source": [
    "model.most_similar_to_given('king' , ['man','male','queen','woman','heterosexual','crown_prince','monarch'])"
   ]
  },
  {
   "cell_type": "code",
   "execution_count": 48,
   "id": "5d7d5ab3-1c9b-4130-be3d-6c9d22d12322",
   "metadata": {},
   "outputs": [
    {
     "data": {
      "text/plain": [
       "'male'"
      ]
     },
     "execution_count": 48,
     "metadata": {},
     "output_type": "execute_result"
    }
   ],
   "source": [
    "model.most_similar_to_given('heterosexual' , ['man','male','woman','queen','crown_prince','monarch'])\n"
   ]
  },
  {
   "cell_type": "code",
   "execution_count": 47,
   "id": "dbe0c9f4-2abe-4f40-bd26-46e5fdad5eb5",
   "metadata": {},
   "outputs": [
    {
     "data": {
      "text/plain": [
       "'male'"
      ]
     },
     "execution_count": 47,
     "metadata": {},
     "output_type": "execute_result"
    }
   ],
   "source": [
    "model.most_similar_to_given('bisexual' , ['man','male','woman','queen','crown_prince','monarch'])\n"
   ]
  },
  {
   "cell_type": "code",
   "execution_count": 50,
   "id": "9f8805ae-64a9-4806-9442-8ce324474a84",
   "metadata": {},
   "outputs": [
    {
     "data": {
      "text/plain": [
       "'monarch'"
      ]
     },
     "execution_count": 50,
     "metadata": {},
     "output_type": "execute_result"
    }
   ],
   "source": [
    "model.most_similar_to_given('queen' , ['man','male','female','woman','heterosexual','crown_prince','monarch'])"
   ]
  },
  {
   "cell_type": "code",
   "execution_count": 59,
   "id": "83a7f36a-0b48-4f73-9748-2109f3b215ab",
   "metadata": {},
   "outputs": [
    {
     "data": {
      "text/plain": [
       "[('raid', 1.0),\n",
       " ('raids', 0.8063194155693054),\n",
       " ('raided', 0.7093504667282104),\n",
       " ('dawn_raid', 0.6879259943962097),\n",
       " ('predawn_raid', 0.6660048961639404),\n",
       " ('simultaneous_raids', 0.6299540400505066),\n",
       " ('nighttime_raid', 0.591084897518158),\n",
       " ('Raids', 0.588796854019165),\n",
       " ('raiding', 0.5884732007980347),\n",
       " ('predawn_raids', 0.5572945475578308),\n",
       " ('commando_raid', 0.537604570388794),\n",
       " ('dawn_raids', 0.5374864339828491),\n",
       " ('crackdown', 0.531368613243103),\n",
       " ('commandos_raided', 0.5216349363327026),\n",
       " ('Operation_Wagon_Train', 0.520948052406311),\n",
       " ('Ops_Basmi', 0.512786328792572),\n",
       " ('Raid', 0.5063590407371521),\n",
       " ('airstrike', 0.5058822631835938),\n",
       " ('Inspector_Miles_Himsworth', 0.5051669478416443),\n",
       " ('attack', 0.5029533505439758)]"
      ]
     },
     "execution_count": 59,
     "metadata": {},
     "output_type": "execute_result"
    }
   ],
   "source": [
    "model.similar_by_vector(model['raid'] , topn=20)"
   ]
  },
  {
   "cell_type": "code",
   "execution_count": 61,
   "id": "6de7d30d-f086-4321-a7ec-252881efc85d",
   "metadata": {},
   "outputs": [
    {
     "data": {
      "text/plain": [
       "[('mixer_grinder', 1.0),\n",
       " ('agarbatti', 0.5867014527320862),\n",
       " ('mixer_grinders', 0.5753578543663025),\n",
       " ('juice_extractor', 0.5632466077804565),\n",
       " ('induction_hob', 0.560019850730896),\n",
       " ('induction_hobs', 0.5545294880867004),\n",
       " ('agarbattis', 0.5507481098175049),\n",
       " ('washing_machines_microwave_ovens', 0.5445775389671326),\n",
       " ('detergent_powder', 0.5432027578353882),\n",
       " ('induction_cooktops', 0.54268479347229),\n",
       " ('LPG_stoves', 0.5414226651191711),\n",
       " ('vegetarian_thali', 0.538568913936615),\n",
       " ('induction_cooktop', 0.5381201505661011),\n",
       " ('citrus_juicer', 0.5375210642814636),\n",
       " ('mixie', 0.5368452668190002),\n",
       " ('dishwash', 0.5361816883087158),\n",
       " ('Orpat', 0.5361419320106506),\n",
       " ('shampoo_sachets', 0.5357083082199097),\n",
       " ('ironers', 0.5355260372161865),\n",
       " ('ltrs', 0.5351273417472839),\n",
       " ('Swach', 0.534917950630188),\n",
       " ('refrigerators_microwave_ovens', 0.5342822074890137),\n",
       " ('refrigerator_washing_machine', 0.5335646867752075),\n",
       " ('TTK_Prestige', 0.5328500270843506),\n",
       " ('Nutrela', 0.5319899916648865),\n",
       " ('chyawanprash', 0.5299639701843262),\n",
       " ('Subros', 0.5282356142997742),\n",
       " ('combi_ovens', 0.5276368856430054),\n",
       " ('thalis', 0.5270559191703796),\n",
       " ('desi_ghee', 0.5253362059593201),\n",
       " ('Tefal_Actifry', 0.5250572562217712),\n",
       " ('papad', 0.5247911810874939),\n",
       " ('induction_cookers', 0.523186445236206),\n",
       " ('namkeens', 0.5225620269775391),\n",
       " ('papads', 0.5223934054374695),\n",
       " ('vitrified_tiles', 0.5222040414810181),\n",
       " ('Aashirvaad', 0.5215346217155457),\n",
       " ('tetra_pack', 0.5203529000282288),\n",
       " ('bhel', 0.5199154615402222),\n",
       " ('Maharaja_Appliances', 0.5197968482971191),\n",
       " ('Maggi_noodles', 0.5197427868843079),\n",
       " ('plate_heat_exchanger', 0.5192992687225342),\n",
       " ('Parachute_coconut', 0.5190641283988953),\n",
       " ('ActiFry', 0.518865704536438),\n",
       " ('parantha', 0.5187605619430542),\n",
       " ('terry_towel', 0.5181263089179993),\n",
       " ('vermi_compost', 0.5145418047904968),\n",
       " ('sattu', 0.514279305934906),\n",
       " ('baking_ovens', 0.5141332149505615),\n",
       " ('kadai', 0.5138732194900513)]"
      ]
     },
     "execution_count": 61,
     "metadata": {},
     "output_type": "execute_result"
    }
   ],
   "source": [
    "model.similar_by_vector(model['mixer_grinder'] , topn=50)"
   ]
  },
  {
   "cell_type": "code",
   "execution_count": 62,
   "id": "4aebf130-3ec8-4da3-a133-fdae3baef74d",
   "metadata": {},
   "outputs": [
    {
     "data": {
      "text/plain": [
       "2998721"
      ]
     },
     "execution_count": 62,
     "metadata": {},
     "output_type": "execute_result"
    }
   ],
   "source": [
    "model.get_vecattr(\"computer\",\"count\")"
   ]
  },
  {
   "cell_type": "code",
   "execution_count": 63,
   "id": "4a61a401-96d9-49fe-b4a9-ee567244bf28",
   "metadata": {},
   "outputs": [
    {
     "ename": "KeyError",
     "evalue": "'pos'",
     "output_type": "error",
     "traceback": [
      "\u001b[0;31m---------------------------------------------------------------------------\u001b[0m",
      "\u001b[0;31mKeyError\u001b[0m                                  Traceback (most recent call last)",
      "Cell \u001b[0;32mIn[63], line 1\u001b[0m\n\u001b[0;32m----> 1\u001b[0m \u001b[43mmodel\u001b[49m\u001b[38;5;241;43m.\u001b[39;49m\u001b[43mget_vecattr\u001b[49m\u001b[43m(\u001b[49m\u001b[38;5;124;43m\"\u001b[39;49m\u001b[38;5;124;43mcomputer\u001b[39;49m\u001b[38;5;124;43m\"\u001b[39;49m\u001b[43m,\u001b[49m\u001b[38;5;124;43m\"\u001b[39;49m\u001b[38;5;124;43mpos\u001b[39;49m\u001b[38;5;124;43m\"\u001b[39;49m\u001b[43m)\u001b[49m\n",
      "File \u001b[0;32m~/PythonWorkspace/MyLLMProject/LLM/lib/python3.9/site-packages/gensim/models/keyedvectors.py:376\u001b[0m, in \u001b[0;36mKeyedVectors.get_vecattr\u001b[0;34m(self, key, attr)\u001b[0m\n\u001b[1;32m    358\u001b[0m \u001b[38;5;250m\u001b[39m\u001b[38;5;124;03m\"\"\"Get attribute value associated with given key.\u001b[39;00m\n\u001b[1;32m    359\u001b[0m \n\u001b[1;32m    360\u001b[0m \u001b[38;5;124;03mParameters\u001b[39;00m\n\u001b[0;32m   (...)\u001b[0m\n\u001b[1;32m    373\u001b[0m \n\u001b[1;32m    374\u001b[0m \u001b[38;5;124;03m\"\"\"\u001b[39;00m\n\u001b[1;32m    375\u001b[0m index \u001b[38;5;241m=\u001b[39m \u001b[38;5;28mself\u001b[39m\u001b[38;5;241m.\u001b[39mget_index(key)\n\u001b[0;32m--> 376\u001b[0m \u001b[38;5;28;01mreturn\u001b[39;00m \u001b[38;5;28;43mself\u001b[39;49m\u001b[38;5;241;43m.\u001b[39;49m\u001b[43mexpandos\u001b[49m\u001b[43m[\u001b[49m\u001b[43mattr\u001b[49m\u001b[43m]\u001b[49m[index]\n",
      "\u001b[0;31mKeyError\u001b[0m: 'pos'"
     ]
    }
   ],
   "source": [
    "model.get_vecattr(\"computer\",\"pos\")"
   ]
  },
  {
   "cell_type": "code",
   "execution_count": null,
   "id": "81c85828-ab03-4788-bca6-5c4b1e4bacab",
   "metadata": {},
   "outputs": [],
   "source": [
    "# Delete this model that is downloaded to get space and memory b__package__\n",
    "# Delete from mMemory\n",
    "del model"
   ]
  },
  {
   "cell_type": "code",
   "execution_count": 65,
   "id": "f4c57144-76ee-4b5a-afcd-d3d69e84991c",
   "metadata": {},
   "outputs": [
    {
     "name": "stdout",
     "output_type": "stream",
     "text": [
      "{'num_records': 3000000, 'file_size': 1743563840, 'base_dataset': 'Google News (about 100 billion words)', 'reader_code': 'https://github.com/RaRe-Technologies/gensim-data/releases/download/word2vec-google-news-300/__init__.py', 'license': 'not found', 'parameters': {'dimension': 300}, 'description': \"Pre-trained vectors trained on a part of the Google News dataset (about 100 billion words). The model contains 300-dimensional vectors for 3 million words and phrases. The phrases were obtained using a simple data-driven approach described in 'Distributed Representations of Words and Phrases and their Compositionality' (https://code.google.com/archive/p/word2vec/).\", 'read_more': ['https://code.google.com/archive/p/word2vec/', 'https://arxiv.org/abs/1301.3781', 'https://arxiv.org/abs/1310.4546', 'https://www.microsoft.com/en-us/research/publication/linguistic-regularities-in-continuous-space-word-representations/?from=http%3A%2F%2Fresearch.microsoft.com%2Fpubs%2F189726%2Frvecs.pdf'], 'checksum': 'a5e5354d40acb95f9ec66d5977d140ef', 'file_name': 'word2vec-google-news-300.gz', 'parts': 1}\n"
     ]
    }
   ],
   "source": [
    "model_info = api.info(\"word2vec-google-news-300\")\n",
    "print(model_info)"
   ]
  },
  {
   "cell_type": "code",
   "execution_count": 71,
   "id": "ecf77a76-c196-4f11-8058-5a474d52bc4f",
   "metadata": {},
   "outputs": [
    {
     "name": "stdout",
     "output_type": "stream",
     "text": [
      "word2vec-google-news-300.gz\n"
     ]
    }
   ],
   "source": [
    "model_path=model_info['file_name']\n",
    "print(model_path)"
   ]
  },
  {
   "cell_type": "code",
   "execution_count": null,
   "id": "ae06619b-ddaa-4e0e-aa19-c2eff7b2f7a3",
   "metadata": {},
   "outputs": [],
   "source": []
  }
 ],
 "metadata": {
  "kernelspec": {
   "display_name": "Python 3 (ipykernel)",
   "language": "python",
   "name": "python3"
  },
  "language_info": {
   "codemirror_mode": {
    "name": "ipython",
    "version": 3
   },
   "file_extension": ".py",
   "mimetype": "text/x-python",
   "name": "python",
   "nbconvert_exporter": "python",
   "pygments_lexer": "ipython3",
   "version": "3.9.6"
  }
 },
 "nbformat": 4,
 "nbformat_minor": 5
}
