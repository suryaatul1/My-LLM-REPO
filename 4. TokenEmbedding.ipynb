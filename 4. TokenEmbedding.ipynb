{
 "cells": [
  {
   "cell_type": "code",
   "execution_count": 1,
   "id": "344b1979-1cbe-426a-92cf-eb9534174d74",
   "metadata": {},
   "outputs": [],
   "source": [
    "import torch"
   ]
  },
  {
   "cell_type": "code",
   "execution_count": 2,
   "id": "a2d28eb7-70d3-4f04-ae2a-f0de3f7a70a9",
   "metadata": {},
   "outputs": [],
   "source": [
    "input_ids=torch.tensor([2,3,5,1])"
   ]
  },
  {
   "cell_type": "code",
   "execution_count": 4,
   "id": "eead590e-3def-40b2-abd2-edbfcddd103a",
   "metadata": {},
   "outputs": [],
   "source": [
    "vocab_size=6\n",
    "output_dim=3\n",
    "\n",
    "torch.manual_seed(123)\n",
    "embedding_layer=torch.nn.Embedding(vocab_size,output_dim)"
   ]
  },
  {
   "cell_type": "code",
   "execution_count": 7,
   "id": "f9c0b632-bd3b-4fc5-9b3a-effd76dc2486",
   "metadata": {},
   "outputs": [
    {
     "data": {
      "text/plain": [
       "Parameter containing:\n",
       "tensor([[ 0.3374, -0.1778, -0.1690],\n",
       "        [ 0.9178,  1.5810,  1.3010],\n",
       "        [ 1.2753, -0.2010, -0.1606],\n",
       "        [-0.4015,  0.9666, -1.1481],\n",
       "        [-1.1589,  0.3255, -0.6315],\n",
       "        [-2.8400, -0.7849, -1.4096]], requires_grad=True)"
      ]
     },
     "execution_count": 7,
     "metadata": {},
     "output_type": "execute_result"
    }
   ],
   "source": [
    "embedding_layer.weight"
   ]
  },
  {
   "cell_type": "code",
   "execution_count": 18,
   "id": "a7fb4da0-c1dc-4e68-ab7d-427646636510",
   "metadata": {},
   "outputs": [
    {
     "data": {
      "text/plain": [
       "tensor([[ 0.3374, -0.1778, -0.1690],\n",
       "        [ 0.9178,  1.5810,  1.3010],\n",
       "        [ 1.2753, -0.2010, -0.1606],\n",
       "        [-0.4015,  0.9666, -1.1481]], grad_fn=<EmbeddingBackward0>)"
      ]
     },
     "execution_count": 18,
     "metadata": {},
     "output_type": "execute_result"
    }
   ],
   "source": [
    "\n",
    "embedding_layer(torch.arange(0,4))"
   ]
  },
  {
   "cell_type": "markdown",
   "id": "f254a201-11d4-4ca4-840d-731b23dac22f",
   "metadata": {},
   "source": [
    "<div class=\"alert alert-block alert-info\">\n",
    "<b>Embedding:</b> \n",
    "<p>    \n",
    "    This is an example of Embedding and its dimensions.\n",
    "    We have a tensor that is embedded and check the shape\n",
    "</p>\n",
    "</div>"
   ]
  },
  {
   "cell_type": "markdown",
   "id": "d02ab248-aaae-44db-b7ed-9a377ce0b841",
   "metadata": {},
   "source": [
    "import torch\n",
    "import torch.nn as nn\n",
    "\n"
   ]
  },
  {
   "cell_type": "code",
   "execution_count": 22,
   "id": "305481b7-416f-49e3-887c-56cf615a9a31",
   "metadata": {},
   "outputs": [],
   "source": [
    "# Create embedding layer: vocab_size=5, embed_dim=4\n",
    "embedding = nn.Embedding(5, 4)\n",
    "\n",
    "# Input: indices of words (batch of 2 sentences, each 3 words long)\n",
    "x = torch.tensor([\n",
    "    [0, 1, 3],   # \"I love dogs\"\n",
    "    [0, 2, 4]    # \"I hate cats\"\n",
    "])\n",
    "\n"
   ]
  },
  {
   "cell_type": "code",
   "execution_count": 23,
   "id": "c1091de4-bf96-479c-8349-fd0eea443d18",
   "metadata": {},
   "outputs": [
    {
     "name": "stdout",
     "output_type": "stream",
     "text": [
      "Shape of output: torch.Size([2, 3, 4])\n"
     ]
    }
   ],
   "source": [
    "# Get embeddings\n",
    "out = embedding(x)\n",
    "\n",
    "print(\"Shape of output:\", out.shape)"
   ]
  },
  {
   "cell_type": "code",
   "execution_count": 24,
   "id": "6478ccd0-73d9-486c-ba38-d4178eee1511",
   "metadata": {},
   "outputs": [
    {
     "data": {
      "text/plain": [
       "Parameter containing:\n",
       "tensor([[-2.1338,  1.0524, -0.3885, -0.9343],\n",
       "        [ 1.0533,  0.1388, -0.2044, -2.2685],\n",
       "        [-0.9133, -0.4204,  1.3111, -0.2199],\n",
       "        [ 0.1838,  0.2293,  0.6177, -0.2876],\n",
       "        [ 0.8218,  0.1512,  0.1036, -2.1996]], requires_grad=True)"
      ]
     },
     "execution_count": 24,
     "metadata": {},
     "output_type": "execute_result"
    }
   ],
   "source": [
    "embedding.weight"
   ]
  },
  {
   "cell_type": "code",
   "execution_count": 25,
   "id": "62069c05-4a0d-4ad1-8ffa-7e9ced0f6577",
   "metadata": {
    "scrolled": true
   },
   "outputs": [
    {
     "data": {
      "text/plain": [
       "tensor([[[-2.1338,  1.0524, -0.3885, -0.9343],\n",
       "         [ 1.0533,  0.1388, -0.2044, -2.2685],\n",
       "         [ 0.1838,  0.2293,  0.6177, -0.2876]],\n",
       "\n",
       "        [[-2.1338,  1.0524, -0.3885, -0.9343],\n",
       "         [-0.9133, -0.4204,  1.3111, -0.2199],\n",
       "         [ 0.8218,  0.1512,  0.1036, -2.1996]]], grad_fn=<EmbeddingBackward0>)"
      ]
     },
     "execution_count": 25,
     "metadata": {},
     "output_type": "execute_result"
    }
   ],
   "source": [
    "out"
   ]
  },
  {
   "cell_type": "markdown",
   "id": "8bb7cc1a-382a-4a65-ab8a-65d7e613f2f3",
   "metadata": {},
   "source": [
    "\n",
    "🔹 Output\n",
    "\n",
    "x shape = (2, 3) → batch of 2 sentences, each length 3\n",
    "\n",
    "out shape = (2, 3, 4)\n",
    "\n",
    "👉 Explanation:\n",
    "\n",
    "2 → number of sentences (batch size)\n",
    "\n",
    "3 → number of words in each sentence\n",
    "\n",
    "4 → embedding dimension\n",
    "\n",
    "So every word index is replaced by a 4-dimensional vector."
   ]
  },
  {
   "cell_type": "markdown",
   "id": "d76e2b88-2885-4b28-974b-206ce5d83c80",
   "metadata": {},
   "source": [
    "✅ In short:\n",
    "If input is (batch_size, seq_length), output of nn.Embedding is (batch_size, seq_length, embedding_dim)."
   ]
  },
  {
   "cell_type": "code",
   "execution_count": null,
   "id": "707554c7-dbfb-4baf-b127-5b4115d14e0d",
   "metadata": {},
   "outputs": [],
   "source": []
  }
 ],
 "metadata": {
  "kernelspec": {
   "display_name": "Python 3 (ipykernel)",
   "language": "python",
   "name": "python3"
  },
  "language_info": {
   "codemirror_mode": {
    "name": "ipython",
    "version": 3
   },
   "file_extension": ".py",
   "mimetype": "text/x-python",
   "name": "python",
   "nbconvert_exporter": "python",
   "pygments_lexer": "ipython3",
   "version": "3.9.6"
  }
 },
 "nbformat": 4,
 "nbformat_minor": 5
}
