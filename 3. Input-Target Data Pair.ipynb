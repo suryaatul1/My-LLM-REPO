{
 "cells": [
  {
   "cell_type": "code",
   "execution_count": 1,
   "id": "4c15da23-270d-4555-acf3-1a80017cc70e",
   "metadata": {},
   "outputs": [
    {
     "name": "stdout",
     "output_type": "stream",
     "text": [
      "titoken version: 0.11.0\n"
     ]
    }
   ],
   "source": [
    "import tiktoken\n",
    "print(\"titoken version:\",tiktoken.__version__)"
   ]
  },
  {
   "cell_type": "code",
   "execution_count": 2,
   "id": "32e91acb-76f7-484a-9017-df03912646d7",
   "metadata": {},
   "outputs": [
    {
     "name": "stdout",
     "output_type": "stream",
     "text": [
      "Total number of characters in data: 20479\n",
      "I HAD always thought Jack Gisburn rather a cheap genius--though a good fellow enough--so it was no \n"
     ]
    }
   ],
   "source": [
    "with open(\"data/the-verdict.txt\" ,'r',encoding=\"utf-8\" ) as f:\n",
    "    raw_text=f.read()\n",
    "\n",
    "print(\"Total number of characters in data:\" , len(raw_text))\n",
    "print(raw_text[:99])"
   ]
  },
  {
   "cell_type": "markdown",
   "id": "0d5e7284-65e4-4b86-a60b-2f315cc4b8cf",
   "metadata": {},
   "source": [
    "---\n",
    "<span style=\"color:#FF5733\">\n",
    "In this notebook basically , we will be creating the input and target pair datasets for LLM to be training one\n",
    "\n",
    "By now we know that the LLM predict one work at a time.\n",
    "\n",
    "We will now prepare the dataset were in we give one word and the output (label) is next word . This ouput is again converted \n",
    "into input along with origin input word , given as input to get next word output\n",
    "\n",
    "This is also called as self-supervised learning or autoreggresive model where instead of providing the \n",
    "labelled data like supervsioned learning, the dataset itself is converted into input and label\n",
    "<span>"
   ]
  },
  {
   "cell_type": "markdown",
   "id": "8916a932-a355-4148-8605-ea6127e8966f",
   "metadata": {},
   "source": [
    "---\n",
    "<span style=\"color:#FF5733\">\n",
    "We now Initialize the gpt-2 BPE . \n",
    "\n",
    "This will tokenize the input text.\n",
    "\n",
    "<span>"
   ]
  },
  {
   "cell_type": "code",
   "execution_count": 3,
   "id": "289930dd-dc59-4852-908d-788424e66c32",
   "metadata": {},
   "outputs": [],
   "source": [
    "tokenizer=tiktoken.get_encoding(\"gpt2\")"
   ]
  },
  {
   "cell_type": "code",
   "execution_count": 4,
   "id": "84fd6ad6-8c0b-414b-b844-eb49168af609",
   "metadata": {},
   "outputs": [],
   "source": [
    "encode_text=tokenizer.encode(raw_text)"
   ]
  },
  {
   "cell_type": "code",
   "execution_count": 5,
   "id": "8965b013-1314-439d-be21-b70bef88f3ca",
   "metadata": {},
   "outputs": [
    {
     "data": {
      "text/plain": [
       "[40, 367, 2885, 1464, 1807, 3619, 402, 271, 10899, 2138]"
      ]
     },
     "execution_count": 5,
     "metadata": {},
     "output_type": "execute_result"
    }
   ],
   "source": [
    "encode_text[:10]"
   ]
  },
  {
   "cell_type": "code",
   "execution_count": 6,
   "id": "4102f3f7-3baf-45c6-91ab-ceccd866494a",
   "metadata": {},
   "outputs": [
    {
     "name": "stdout",
     "output_type": "stream",
     "text": [
      "5145\n"
     ]
    }
   ],
   "source": [
    "print(len(encode_text))"
   ]
  },
  {
   "cell_type": "markdown",
   "id": "9b0ad812-4294-4ff5-8f30-5aa18cf7b2d1",
   "metadata": {},
   "source": [
    "---\n",
    "<span style=\"color:#FF5733\">\n",
    "Lets look at an example of how to prepare input and target Pair.\n",
    "\n",
    "<span>\n"
   ]
  },
  {
   "cell_type": "code",
   "execution_count": 7,
   "id": "a0ac245f-6ab9-4f48-9d9e-038f8f8c8054",
   "metadata": {},
   "outputs": [],
   "source": [
    "# Here we remove the first 50 tokens\n",
    "\n",
    "encode_sample = encode_text[50:]"
   ]
  },
  {
   "cell_type": "code",
   "execution_count": 8,
   "id": "b3aec311-8819-4881-9dee-48df9820c2e2",
   "metadata": {},
   "outputs": [
    {
     "name": "stdout",
     "output_type": "stream",
     "text": [
      "x: [290, 4920, 2241, 287]\n",
      "y:      [4920, 2241, 287, 257]\n"
     ]
    }
   ],
   "source": [
    "# Define the length of input . the 4 meaning it will accept 4 tokens\n",
    "context_size=4\n",
    "\n",
    "# The context size of 4 meaning , that the model is trained to look at sequence of 4 words (or token)\n",
    "# to predict the next word in sequence\n",
    "# Example :-\n",
    "# The input x is first 4 tokens [1,2,3,4] , and the target y is the next 4 token [2,3,4,5]\n",
    "\n",
    "x = encode_sample[:context_size]\n",
    "y=encode_sample[1:context_size+1]\n",
    "\n",
    "print(f\"x: {x}\")\n",
    "print(f\"y:      {y}\") #--> shifted by one\n",
    "\n",
    "# This signifies that if \n",
    "# x is input and \n",
    "# y is output/target/labelled data\n",
    "# So if we pass x as input {290} we get output {4920} (This new o/p is converted as i/p in next iteration)\n",
    "# Nxt iteration if we pass x = {290,4920} we get output {2241} "
   ]
  },
  {
   "cell_type": "code",
   "execution_count": 9,
   "id": "9296ff6d-69bf-4eca-bc92-16d0cc7a209d",
   "metadata": {},
   "outputs": [
    {
     "name": "stdout",
     "output_type": "stream",
     "text": [
      "[290] ---> 4920\n",
      "[290, 4920] ---> 2241\n",
      "[290, 4920, 2241] ---> 287\n",
      "[290, 4920, 2241, 287] ---> 257\n"
     ]
    }
   ],
   "source": [
    "# this block will illustrate the above \n",
    "\n",
    "for i in range(1,context_size+1):\n",
    "    input = encode_sample[:i]\n",
    "    output= encode_sample[i]\n",
    "\n",
    "    print(f\"{input} ---> {output}\")"
   ]
  },
  {
   "cell_type": "code",
   "execution_count": 10,
   "id": "2308386f-881f-466f-8e0a-753b5e56d6ec",
   "metadata": {},
   "outputs": [
    {
     "name": "stdout",
     "output_type": "stream",
     "text": [
      " and --->  established\n",
      " and established --->  himself\n",
      " and established himself --->  in\n",
      " and established himself in --->  a\n"
     ]
    }
   ],
   "source": [
    "# this block will illustrate the above but now with actual text .\n",
    "# This is how LLM will predict\n",
    "\n",
    "for i in range(1,context_size+1):\n",
    "    context = encode_sample[:i]\n",
    "    desired= encode_sample[i]\n",
    "\n",
    "    print(tokenizer.decode(context) ,\"--->\", tokenizer.decode([desired]))"
   ]
  },
  {
   "cell_type": "markdown",
   "id": "30f3a4b9-f98a-403d-8704-1dac646250a6",
   "metadata": {},
   "source": [
    "<span style=\"color:#FF5733\">\n",
    "This is example of how to prepare input and target Pair.\n",
    "We will use pyttorch tensor to make it for more performant \n",
    "\n",
    "<span>\n",
    "\n",
    "---"
   ]
  },
  {
   "cell_type": "markdown",
   "id": "7d1fc9e5-3e95-4218-8d53-36bc5fc304f8",
   "metadata": {},
   "source": [
    "<span style=\"color:#FF5733\">\n",
    "We will now implement the same stuff seem above using pytorch\n",
    "dataset and dataloader . It created the same input and labelled (output/target) tensors\n",
    "<span>\n",
    "\n"
   ]
  },
  {
   "cell_type": "code",
   "execution_count": 19,
   "id": "0bbb80f8-1dcc-4d2b-9c5e-7306bd58946f",
   "metadata": {},
   "outputs": [],
   "source": [
    "from torch.utils.data import Dataset , DataLoader\n",
    "import torch"
   ]
  },
  {
   "cell_type": "code",
   "execution_count": 24,
   "id": "3a461947-1171-4658-a251-f843101bf980",
   "metadata": {},
   "outputs": [],
   "source": [
    "class GPTDatasetV1(Dataset):\n",
    "    def __init__(self, text , tokenizer , max_length , stride):\n",
    "        self.input_tensor=[]\n",
    "        self.output_tensor=[]\n",
    "\n",
    "        # Tokenize entire text usng gpt2 BPE\n",
    "        token_ids=tokenizer.encode(text , allowed_special={\"<|endoftext|>\"})\n",
    "\n",
    "        for i in range(0,len(token_ids)-max_length,stride):\n",
    "            input_chunk=token_ids[i:i+max_length]\n",
    "            output_chunk=token_ids[i+1:i+max_length+1]\n",
    "            self.input_tensor.append(torch.tensor(input_chunk))\n",
    "            self.output_tensor.append(torch.tensor(output_chunk))\n",
    "\n",
    "    def __len__(self):\n",
    "        return len(self.input_tensor)\n",
    "\n",
    "    def __getitem__(self, idx):\n",
    "        return self.input_tensor[idx] , self.output_tensor[idx]"
   ]
  },
  {
   "cell_type": "code",
   "execution_count": 25,
   "id": "87696635-2189-409c-a70f-7290d2dada1a",
   "metadata": {},
   "outputs": [],
   "source": [
    "test=GPTDatasetV1(\"I am In the place\" , tokenizer ,4,4)"
   ]
  },
  {
   "cell_type": "code",
   "execution_count": 27,
   "id": "dab5337e-c29f-49de-b0ef-dc77822eda11",
   "metadata": {},
   "outputs": [],
   "source": [
    "def create_dataloader_v1(text , batch_size=4,max_length=256,\n",
    "                           stride=128,shuffle=True,drop_last=True,\n",
    "                            num_workers=0):\n",
    "    tokenizer=tiktoken.get_encoding(\"gpt2\")\n",
    "    dataset=GPTDatasetV1(text,tokenizer,max_length,stride)\n",
    "\n",
    "    dataloader=DataLoader(\n",
    "                          dataset,\n",
    "                          batch_size=batch_size,\n",
    "                          shuffle=shuffle,\n",
    "                          drop_last=drop_last,\n",
    "                          num_workers=num_workers\n",
    "                         )\n",
    "\n",
    "    return dataloader\n",
    "    "
   ]
  },
  {
   "cell_type": "code",
   "execution_count": 38,
   "id": "fa8f89e5-ec73-474c-bdfc-8c79b1e76227",
   "metadata": {},
   "outputs": [
    {
     "name": "stdout",
     "output_type": "stream",
     "text": [
      "Inputs: tensor([[   40,   367,  2885,  1464],\n",
      "        [ 1807,  3619,   402,   271],\n",
      "        [10899,  2138,   257,  7026],\n",
      "        [15632,   438,  2016,   257],\n",
      "        [  922,  5891,  1576,   438],\n",
      "        [  568,   340,   373,   645],\n",
      "        [ 1049,  5975,   284,   502],\n",
      "        [  284,  3285,   326,    11]])\n",
      "Outputs: tensor([[  367,  2885,  1464,  1807],\n",
      "        [ 3619,   402,   271, 10899],\n",
      "        [ 2138,   257,  7026, 15632],\n",
      "        [  438,  2016,   257,   922],\n",
      "        [ 5891,  1576,   438,   568],\n",
      "        [  340,   373,   645,  1049],\n",
      "        [ 5975,   284,   502,   284],\n",
      "        [ 3285,   326,    11,   287]])\n"
     ]
    }
   ],
   "source": [
    "import torch\n",
    "\n",
    "dataload = create_dataloader_v1(raw_text,\n",
    "                                batch_size=8,\n",
    "                                max_length=4,\n",
    "                                stride=4,\n",
    "                                shuffle=False\n",
    "                               )\n",
    "data_iter=iter(dataload)\n",
    "inputs , outputs =next(data_iter)\n",
    "print(\"Inputs:\" ,inputs)\n",
    "print(\"Outputs:\" ,outputs)"
   ]
  },
  {
   "cell_type": "code",
   "execution_count": null,
   "id": "175df367-61a3-4a0c-a30b-9ea0cd870822",
   "metadata": {},
   "outputs": [],
   "source": []
  },
  {
   "cell_type": "code",
   "execution_count": null,
   "id": "03142511-b9b9-48f5-9af5-8e47fdfab728",
   "metadata": {},
   "outputs": [],
   "source": []
  }
 ],
 "metadata": {
  "kernelspec": {
   "display_name": "Python 3 (ipykernel)",
   "language": "python",
   "name": "python3"
  },
  "language_info": {
   "codemirror_mode": {
    "name": "ipython",
    "version": 3
   },
   "file_extension": ".py",
   "mimetype": "text/x-python",
   "name": "python",
   "nbconvert_exporter": "python",
   "pygments_lexer": "ipython3",
   "version": "3.9.6"
  }
 },
 "nbformat": 4,
 "nbformat_minor": 5
}
