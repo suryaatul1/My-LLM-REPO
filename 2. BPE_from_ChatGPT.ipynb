{
 "cells": [
  {
   "cell_type": "code",
   "execution_count": null,
   "id": "df197701-b2df-48d8-bba4-0ca7ec65cbb0",
   "metadata": {},
   "outputs": [],
   "source": [
    "#This has to be installed to get readymade BPE algo\n",
    "\n",
    "#! pip install tiktoken"
   ]
  },
  {
   "cell_type": "code",
   "execution_count": 2,
   "id": "9b2ccccd-e046-4e7a-86fa-c980ef58d076",
   "metadata": {},
   "outputs": [
    {
     "name": "stdout",
     "output_type": "stream",
     "text": [
      "titoken version: 0.11.0\n"
     ]
    }
   ],
   "source": [
    "import tiktoken\n",
    "print(\"titoken version:\",tiktoken.__version__)"
   ]
  },
  {
   "cell_type": "code",
   "execution_count": 3,
   "id": "570fbd6f-1cd6-49cb-b171-d634256ad61c",
   "metadata": {},
   "outputs": [
    {
     "name": "stderr",
     "output_type": "stream",
     "text": [
      "/Users/suryaatul/PythonWorkspace/MyLLMProject/LLM/lib/python3.9/site-packages/urllib3/__init__.py:35: NotOpenSSLWarning: urllib3 v2 only supports OpenSSL 1.1.1+, currently the 'ssl' module is compiled with 'LibreSSL 2.8.3'. See: https://github.com/urllib3/urllib3/issues/3020\n",
      "  warnings.warn(\n"
     ]
    }
   ],
   "source": [
    "# Get the GPT-2 BPE tokenizer instance\n",
    "\n",
    "tokenizer = tiktoken.get_encoding(\"gpt2\")"
   ]
  },
  {
   "cell_type": "code",
   "execution_count": 4,
   "id": "a14f144d-e3fc-4e28-8bda-861d310d3961",
   "metadata": {},
   "outputs": [],
   "source": [
    "# Define a text and encode this text using this Tokenizer\n",
    "\n",
    "text = (\n",
    "       \"Hello , do you like tea? <|endoftext|> In thesunlit terraces of someunknownPlace.\"\n",
    "       )\n",
    "\n",
    "integers  = tokenizer.encode(text , allowed_special={\"<|endoftext|>\"})\n"
   ]
  },
  {
   "cell_type": "code",
   "execution_count": 26,
   "id": "6b9d2e4f-ff6e-42a4-8dd9-98ec7fce3468",
   "metadata": {},
   "outputs": [
    {
     "name": "stdout",
     "output_type": "stream",
     "text": [
      "[15496, 837, 466, 345, 588, 8887, 30, 220, 50256, 554, 262, 19155, 18250, 8812, 2114, 286, 617, 34680, 27271, 13]\n"
     ]
    }
   ],
   "source": [
    "# It presents the Token that is assigned to each of the work in sentence\n",
    "print(integers)"
   ]
  },
  {
   "cell_type": "code",
   "execution_count": 27,
   "id": "9e1f8478-03e3-4e25-99d5-75317a765d5f",
   "metadata": {},
   "outputs": [],
   "source": [
    "decode_text=tokenizer.decode(integers)"
   ]
  },
  {
   "cell_type": "code",
   "execution_count": 28,
   "id": "264557cc-c45f-4e45-a902-51dff077f994",
   "metadata": {},
   "outputs": [
    {
     "name": "stdout",
     "output_type": "stream",
     "text": [
      "Hello , do you like tea? <|endoftext|> In thesunlit terraces of someunknownPlace.\n"
     ]
    }
   ],
   "source": [
    "# Decode the token to get the text back\n",
    "print(decode_text)"
   ]
  },
  {
   "cell_type": "code",
   "execution_count": 31,
   "id": "1031dc59-5337-470f-9771-329c87049051",
   "metadata": {},
   "outputs": [
    {
     "name": "stdout",
     "output_type": "stream",
     "text": [
      " some\n",
      "unknown\n",
      "Place\n",
      ".\n"
     ]
    }
   ],
   "source": [
    "# BPE is subwork tokenizer . meaning it break down to most common words know \n",
    "# check here how the unknow word \"someunknownPlace\" is broken down into subwords and each has a different\n",
    "# token assigned . \n",
    "\n",
    "print(tokenizer.decode([617]))\n",
    "print(tokenizer.decode([34680]))\n",
    "print(tokenizer.decode([27271]))\n",
    "print(tokenizer.decode([13]))"
   ]
  },
  {
   "cell_type": "code",
   "execution_count": null,
   "id": "58a77d35-799a-44c4-be5a-f621b8508e50",
   "metadata": {},
   "outputs": [],
   "source": []
  }
 ],
 "metadata": {
  "kernelspec": {
   "display_name": "Python 3 (ipykernel)",
   "language": "python",
   "name": "python3"
  },
  "language_info": {
   "codemirror_mode": {
    "name": "ipython",
    "version": 3
   },
   "file_extension": ".py",
   "mimetype": "text/x-python",
   "name": "python",
   "nbconvert_exporter": "python",
   "pygments_lexer": "ipython3",
   "version": "3.9.6"
  }
 },
 "nbformat": 4,
 "nbformat_minor": 5
}
